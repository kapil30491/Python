{
 "cells": [
  {
   "cell_type": "code",
   "execution_count": 11,
   "id": "2faa4d87-b621-4b35-9444-4287f4812726",
   "metadata": {},
   "outputs": [
    {
     "name": "stdin",
     "output_type": "stream",
     "text": [
      "Enter number= 5\n"
     ]
    },
    {
     "name": "stdout",
     "output_type": "stream",
     "text": [
      "*****\n",
      "****\n",
      "***\n",
      "**\n",
      "*\n"
     ]
    }
   ],
   "source": [
    "# print pattern\n",
    "# *****\n",
    "# ****\n",
    "# ***\n",
    "# **\n",
    "# *\n",
    "num=int(input(\"Enter number=\"))\n",
    "for i in range (num):\n",
    "    print(\"*\"*(num-i))\n"
   ]
  },
  {
   "cell_type": "code",
   "execution_count": 8,
   "id": "c3610d7f-7331-4da0-a0b4-8dcb71359b1c",
   "metadata": {},
   "outputs": [
    {
     "name": "stdin",
     "output_type": "stream",
     "text": [
      "Enter user number= 6\n"
     ]
    },
    {
     "name": "stdout",
     "output_type": "stream",
     "text": [
      "*\n",
      "**\n",
      "***\n",
      "****\n",
      "*****\n",
      "******\n"
     ]
    }
   ],
   "source": [
    "# print pttern\n",
    "# *\n",
    "# **\n",
    "# ***\n",
    "# ****\n",
    "# *****\n",
    "num=int(input(\"Enter user number=\"))\n",
    "for i in range(num):\n",
    "    print(\"*\"*(i+1))"
   ]
  },
  {
   "cell_type": "code",
   "execution_count": 19,
   "id": "d07b555b-362f-4386-aa56-228338fa81ca",
   "metadata": {},
   "outputs": [
    {
     "name": "stdout",
     "output_type": "stream",
     "text": [
      "    *\n",
      "   ***\n",
      "  *****\n",
      " *******\n",
      "*********\n"
     ]
    }
   ],
   "source": [
    "# print pattern\n",
    "#     *\n",
    "#    ***\n",
    "#   *****\n",
    "#  *******\n",
    "# *********\n",
    "\n",
    "num=5\n",
    "for i in range(1,num+1):\n",
    "    print(' '*(num-i)+'*'*(2*i-1))\n",
    "    \n",
    "\n",
    "\n"
   ]
  },
  {
   "cell_type": "code",
   "execution_count": 36,
   "id": "e7901732-cdb9-4ec4-a540-02c8b6d38a51",
   "metadata": {},
   "outputs": [
    {
     "name": "stdout",
     "output_type": "stream",
     "text": [
      "    *\n",
      "   ***\n",
      "  *****\n",
      " *******\n",
      "*********\n",
      "  *****\n",
      "   ***\n",
      "    *\n",
      "     \n"
     ]
    }
   ],
   "source": [
    "num=5\n",
    "for i in range(1,num+1):\n",
    "    print(\" \"*(num-i)+\"*\"*(2*i-1))\n",
    "for i in range(num-2,-1,-1):\n",
    "    print(\" \"*(num-i)+\"*\"*(2*i-1))"
   ]
  },
  {
   "cell_type": "code",
   "execution_count": null,
   "id": "4c2b771c-6074-4119-870e-b35093423a18",
   "metadata": {},
   "outputs": [],
   "source": []
  },
  {
   "cell_type": "code",
   "execution_count": 40,
   "id": "0d219adf-4ae3-4139-b203-86633e29e2f5",
   "metadata": {},
   "outputs": [
    {
     "name": "stdout",
     "output_type": "stream",
     "text": [
      "    *\n",
      "   ***\n",
      "  *****\n",
      " *******\n",
      "*********\n",
      " *******\n",
      "  *****\n",
      "   ***\n",
      "    *\n"
     ]
    }
   ],
   "source": [
    "#     *\n",
    "#    ***\n",
    "#   *****\n",
    "#  *******\n",
    "# *********\n",
    "\n",
    "num=5\n",
    "for i in range(1,num+1):\n",
    "    print(\" \"*(num-i)+\"*\"*(2*i-1))\n",
    "for i in range(num-1,0,-1):\n",
    "    print(\" \"*(num-i)+\"*\"*(2*i-1))  "
   ]
  },
  {
   "cell_type": "code",
   "execution_count": 41,
   "id": "ab573b72-4f51-4482-8b41-a5690429f389",
   "metadata": {},
   "outputs": [
    {
     "name": "stdout",
     "output_type": "stream",
     "text": [
      "    *\n",
      "   ***\n",
      "  *****\n",
      " *******\n",
      "*********\n",
      " *******\n",
      "  *****\n",
      "   ***\n",
      "    *\n"
     ]
    }
   ],
   "source": [
    "#Diamond Pattern\n",
    "n = 5\n",
    "# Upper half of the diamond\n",
    "for i in range(1, n+1):\n",
    "    print(' ' * (n-i) + '*' * (2*i-1))\n",
    "# Lower half of the diamond\n",
    "for i in range(n-1, 0, -1):\n",
    "    print(' ' * (n-i) + '*' * (2*i-1))"
   ]
  },
  {
   "cell_type": "code",
   "execution_count": 7,
   "id": "48ae7a27-d833-4aea-959c-072b973db773",
   "metadata": {},
   "outputs": [
    {
     "name": "stdout",
     "output_type": "stream",
     "text": [
      "[3, 4, 5]\n"
     ]
    }
   ],
   "source": [
    "#Program that finds the common elements between a list and a tuple using a loop:\n",
    "my_list = [1, 2, 3, 4, 5]\n",
    "my_tuple = (3, 4, 5, 6, 7)\n",
    "\n",
    "common_element = []\n",
    "for comon_elem in my_list:\n",
    "    if comon_elem in my_tuple:\n",
    "        common_element.append(comon_elem)\n",
    "print(common_element)        \n",
    "    "
   ]
  },
  {
   "cell_type": "code",
   "execution_count": 20,
   "id": "ddcad757-b64e-4d2d-8bb3-8d43ed5afb9d",
   "metadata": {},
   "outputs": [
    {
     "name": "stdout",
     "output_type": "stream",
     "text": [
      "1\n",
      "3\n",
      "5\n",
      "7\n",
      "9\n"
     ]
    }
   ],
   "source": [
    "#Program that creates a list of 5 numbers and prints each number using a for loop:\n",
    "\n",
    "list =[1,3,5,7,9]\n",
    "for i in list:\n",
    "    print(i)\n"
   ]
  },
  {
   "cell_type": "code",
   "execution_count": 29,
   "id": "ad832929-c455-4083-a873-ca9fb205754a",
   "metadata": {},
   "outputs": [
    {
     "name": "stdout",
     "output_type": "stream",
     "text": [
      "25\n"
     ]
    }
   ],
   "source": [
    "#Program that calculates the sum of all elements in a list of numbers using a loop:\n",
    "number=[1,3,5,7,9]\n",
    "sum=0\n",
    "for i in number:\n",
    "    sum = sum+i\n",
    "print(sum)\n",
    "    \n",
    "# numbers = [1, 2, 3, 4, 5]\n",
    "# total_sum = 0\n",
    "# for number in numbers:\n",
    "#     total_sum += number\n",
    "# print(\"Sum of all elements:\", total_sum)"
   ]
  },
  {
   "cell_type": "code",
   "execution_count": null,
   "id": "ad516eb6-1186-4905-888c-282f14d5c5f3",
   "metadata": {},
   "outputs": [],
   "source": []
  },
  {
   "cell_type": "code",
   "execution_count": 33,
   "id": "1f276069-0db9-45dd-9368-55d816ad391f",
   "metadata": {},
   "outputs": [
    {
     "name": "stdout",
     "output_type": "stream",
     "text": [
      "apple\n",
      "banana\n",
      "orange\n",
      "mango\n"
     ]
    }
   ],
   "source": [
    "#Program to create a tuple of strings and print each element using a for loop:\n",
    "my_tuple=(\"apple\",\"banana\",\"orange\",\"mango\")\n",
    "for fruits in my_tuple:\n",
    "    print(fruits)"
   ]
  },
  {
   "cell_type": "code",
   "execution_count": 37,
   "id": "41016823-8536-4ede-9ab1-617e51edc880",
   "metadata": {},
   "outputs": [
    {
     "name": "stdout",
     "output_type": "stream",
     "text": [
      "Reversed tuple: (5, 4, 3, 2, 1)\n"
     ]
    }
   ],
   "source": [
    "#Program that reverses the elements of a tuple using a loop:\n",
    "my_tuple = (1, 2, 3, 4, 5)\n",
    "reversed_tuple = []\n",
    "for i in range(len(my_tuple)-1, -1, -1):\n",
    "    reversed_tuple.append(my_tuple[i])\n",
    "print(\"Reversed tuple:\", tuple(reversed_tuple))"
   ]
  },
  {
   "cell_type": "code",
   "execution_count": null,
   "id": "7d77f81e-b44a-4457-84f5-5d49c34d517d",
   "metadata": {},
   "outputs": [],
   "source": [
    "my_tuple = (1, 2, 3, 4, 5)"
   ]
  },
  {
   "cell_type": "code",
   "execution_count": 38,
   "id": "59ddcabf-8115-4cbf-a43c-605afa5d8f2f",
   "metadata": {},
   "outputs": [
    {
     "data": {
      "text/plain": [
       "5"
      ]
     },
     "execution_count": 38,
     "metadata": {},
     "output_type": "execute_result"
    }
   ],
   "source": [
    "len(my_tuple)"
   ]
  },
  {
   "cell_type": "code",
   "execution_count": 41,
   "id": "10c77591-ba91-4ef2-a2ff-2b8e6a3dbd74",
   "metadata": {},
   "outputs": [
    {
     "name": "stdout",
     "output_type": "stream",
     "text": [
      "Alice:85\n",
      "Bob:78\n",
      "Charlie:92\n"
     ]
    }
   ],
   "source": [
    "#Program to print each student's name and their score from a dictionary using a loop:\n",
    "students = {\"Alice\": 85, \"Bob\": 78, \"Charlie\": 92}\n",
    "\n",
    "for name,marks in students.items():\n",
    "    print(f\"{name}:{marks}\")"
   ]
  },
  {
   "cell_type": "code",
   "execution_count": null,
   "id": "d78309db-8af1-4e30-8f14-01b3604335b7",
   "metadata": {},
   "outputs": [],
   "source": []
  }
 ],
 "metadata": {
  "kernelspec": {
   "display_name": "Python 3 (ipykernel)",
   "language": "python",
   "name": "python3"
  },
  "language_info": {
   "codemirror_mode": {
    "name": "ipython",
    "version": 3
   },
   "file_extension": ".py",
   "mimetype": "text/x-python",
   "name": "python",
   "nbconvert_exporter": "python",
   "pygments_lexer": "ipython3",
   "version": "3.11.7"
  }
 },
 "nbformat": 4,
 "nbformat_minor": 5
}
