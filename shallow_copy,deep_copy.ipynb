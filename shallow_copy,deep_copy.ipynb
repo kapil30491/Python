{
 "cells": [
  {
   "cell_type": "markdown",
   "id": "25700d6c-3da7-4012-be32-77226d9b4ae7",
   "metadata": {},
   "source": [
    "# Copy/deep_copy"
   ]
  },
  {
   "cell_type": "markdown",
   "id": "bbb6e66c-05f5-4f93-9bd2-8a1ab00e134c",
   "metadata": {},
   "source": [
    "# concet of Shallow copy"
   ]
  },
  {
   "cell_type": "code",
   "execution_count": null,
   "id": "0d835f1d-71eb-45ff-9aab-027a023e2f10",
   "metadata": {},
   "outputs": [],
   "source": [
    "Syntax: copy.copy(x)"
   ]
  },
  {
   "cell_type": "code",
   "execution_count": 2,
   "id": "951b3da7-9730-48b7-8a20-e9ee18fb450a",
   "metadata": {},
   "outputs": [],
   "source": [
    "lst1=[1,2,3,4]\n",
    "lst2=lst1"
   ]
  },
  {
   "cell_type": "code",
   "execution_count": 3,
   "id": "91088722-244c-41a2-8489-5e84b20429e2",
   "metadata": {},
   "outputs": [
    {
     "data": {
      "text/plain": [
       "[1, 2, 3, 4]"
      ]
     },
     "execution_count": 3,
     "metadata": {},
     "output_type": "execute_result"
    }
   ],
   "source": [
    "lst2"
   ]
  },
  {
   "cell_type": "code",
   "execution_count": 4,
   "id": "d6b22302-f93d-4e55-aa49-fcace91cbb64",
   "metadata": {},
   "outputs": [],
   "source": [
    "lst1[0]=12"
   ]
  },
  {
   "cell_type": "code",
   "execution_count": 5,
   "id": "a6cf6a14-8f1b-4e4c-8824-3188adfc2b8b",
   "metadata": {},
   "outputs": [
    {
     "data": {
      "text/plain": [
       "[12, 2, 3, 4]"
      ]
     },
     "execution_count": 5,
     "metadata": {},
     "output_type": "execute_result"
    }
   ],
   "source": [
    "lst1"
   ]
  },
  {
   "cell_type": "code",
   "execution_count": 6,
   "id": "b710eece-ea26-40af-99be-b748c8640e48",
   "metadata": {},
   "outputs": [
    {
     "data": {
      "text/plain": [
       "[12, 2, 3, 4]"
      ]
     },
     "execution_count": 6,
     "metadata": {},
     "output_type": "execute_result"
    }
   ],
   "source": [
    "lst2"
   ]
  },
  {
   "cell_type": "code",
   "execution_count": null,
   "id": "43284667-2453-467e-865a-a68835a81934",
   "metadata": {},
   "outputs": [],
   "source": []
  },
  {
   "cell_type": "code",
   "execution_count": 7,
   "id": "95a43f45-55f2-4bc2-bc0d-19f81235a5fa",
   "metadata": {},
   "outputs": [],
   "source": [
    "lst2=lst1.copy()"
   ]
  },
  {
   "cell_type": "code",
   "execution_count": 8,
   "id": "f6846d11-e721-4e31-aa06-e21231978af1",
   "metadata": {},
   "outputs": [
    {
     "data": {
      "text/plain": [
       "[12, 2, 3, 4]"
      ]
     },
     "execution_count": 8,
     "metadata": {},
     "output_type": "execute_result"
    }
   ],
   "source": [
    "lst2"
   ]
  },
  {
   "cell_type": "code",
   "execution_count": 9,
   "id": "be2c831d-7541-4bee-a21d-d22fe4186749",
   "metadata": {},
   "outputs": [
    {
     "data": {
      "text/plain": [
       "[12, 2, 3, 4]"
      ]
     },
     "execution_count": 9,
     "metadata": {},
     "output_type": "execute_result"
    }
   ],
   "source": [
    "lst1"
   ]
  },
  {
   "cell_type": "code",
   "execution_count": 11,
   "id": "dbdd0547-5765-4f41-8976-ae134e0053d1",
   "metadata": {},
   "outputs": [],
   "source": [
    "lst1[2]=9"
   ]
  },
  {
   "cell_type": "code",
   "execution_count": 12,
   "id": "03c61af0-2456-4992-97b4-eb43497e5a82",
   "metadata": {},
   "outputs": [
    {
     "data": {
      "text/plain": [
       "[12, 2, 9, 4]"
      ]
     },
     "execution_count": 12,
     "metadata": {},
     "output_type": "execute_result"
    }
   ],
   "source": [
    "lst1"
   ]
  },
  {
   "cell_type": "code",
   "execution_count": 13,
   "id": "fb166cae-07d9-4f20-a744-d2a1d89776b6",
   "metadata": {},
   "outputs": [
    {
     "data": {
      "text/plain": [
       "[12, 2, 3, 4]"
      ]
     },
     "execution_count": 13,
     "metadata": {},
     "output_type": "execute_result"
    }
   ],
   "source": [
    "lst2"
   ]
  },
  {
   "cell_type": "markdown",
   "id": "c3dab334-9078-4e8c-9987-c82ed1cac7a7",
   "metadata": {},
   "source": [
    "# concept of deep_copy"
   ]
  },
  {
   "cell_type": "code",
   "execution_count": null,
   "id": "7d424247-7505-4b3a-9bc8-f63fe61dbfcb",
   "metadata": {},
   "outputs": [],
   "source": [
    "Syntax: copy.deepcopy(x)"
   ]
  },
  {
   "cell_type": "code",
   "execution_count": 33,
   "id": "86b5f0bc-473e-45a0-9973-4084675619fb",
   "metadata": {},
   "outputs": [],
   "source": [
    "import copy\n",
    "lst3=[[4,5,6,7],[8,9,10]]\n",
    "lst4=copy.deepcopy(lst3)"
   ]
  },
  {
   "cell_type": "code",
   "execution_count": 34,
   "id": "ce8e35cc-5af7-4c74-a64e-16f092a49e47",
   "metadata": {},
   "outputs": [
    {
     "data": {
      "text/plain": [
       "[[4, 5, 6, 7], [8, 9, 10]]"
      ]
     },
     "execution_count": 34,
     "metadata": {},
     "output_type": "execute_result"
    }
   ],
   "source": [
    "lst4"
   ]
  },
  {
   "cell_type": "code",
   "execution_count": 35,
   "id": "2a5e9491-7174-4998-b5e7-276de5f5e50c",
   "metadata": {},
   "outputs": [],
   "source": [
    "lst3[1][0]=11"
   ]
  },
  {
   "cell_type": "code",
   "execution_count": 36,
   "id": "63e87dc9-ad1f-40b6-b316-508d693c67f0",
   "metadata": {},
   "outputs": [
    {
     "data": {
      "text/plain": [
       "[[4, 5, 6, 7], [11, 9, 10]]"
      ]
     },
     "execution_count": 36,
     "metadata": {},
     "output_type": "execute_result"
    }
   ],
   "source": [
    "lst3"
   ]
  },
  {
   "cell_type": "code",
   "execution_count": 37,
   "id": "9edf11d4-6162-47ed-b5b4-7f98ae9de8e8",
   "metadata": {},
   "outputs": [
    {
     "data": {
      "text/plain": [
       "[[4, 5, 6, 7], [8, 9, 10]]"
      ]
     },
     "execution_count": 37,
     "metadata": {},
     "output_type": "execute_result"
    }
   ],
   "source": [
    "lst4"
   ]
  },
  {
   "cell_type": "code",
   "execution_count": 38,
   "id": "218f69f1-b1fc-4603-8e22-62d703c4e0ad",
   "metadata": {},
   "outputs": [],
   "source": [
    "lst4[1][2]=76"
   ]
  },
  {
   "cell_type": "code",
   "execution_count": 39,
   "id": "cb050412-f28f-424f-8cc7-698f11c76457",
   "metadata": {},
   "outputs": [
    {
     "data": {
      "text/plain": [
       "[[4, 5, 6, 7], [8, 9, 76]]"
      ]
     },
     "execution_count": 39,
     "metadata": {},
     "output_type": "execute_result"
    }
   ],
   "source": [
    "lst4"
   ]
  },
  {
   "cell_type": "code",
   "execution_count": 40,
   "id": "46fb9156-b0e4-43b4-9f58-b00ea57a4c66",
   "metadata": {},
   "outputs": [
    {
     "data": {
      "text/plain": [
       "[[4, 5, 6, 7], [11, 9, 10]]"
      ]
     },
     "execution_count": 40,
     "metadata": {},
     "output_type": "execute_result"
    }
   ],
   "source": [
    "lst3"
   ]
  },
  {
   "cell_type": "code",
   "execution_count": null,
   "id": "42fccb4a-09eb-40f4-8579-c25bf80a8ca5",
   "metadata": {},
   "outputs": [],
   "source": []
  },
  {
   "cell_type": "code",
   "execution_count": 42,
   "id": "8ed3b922-d296-4784-a3b3-08a4f1289566",
   "metadata": {},
   "outputs": [
    {
     "name": "stdout",
     "output_type": "stream",
     "text": [
      "[[1, 5, 7, 9, 11, 13, 15], [2, 4, 6, 8, 10, 12]]\n"
     ]
    }
   ],
   "source": [
    "# q1- concept of copy\n",
    "l1=[[1,5,7,9,11,13,15],[2,4,6,8,10,12]]\n",
    "l2=l1\n",
    "print(l1)"
   ]
  },
  {
   "cell_type": "code",
   "execution_count": 43,
   "id": "babf4d5a-3eae-40be-a7a2-205f080c58d5",
   "metadata": {},
   "outputs": [
    {
     "data": {
      "text/plain": [
       "[[1, 5, 7, 9, 11, 13, 15], [2, 4, 6, 8, 10, 12]]"
      ]
     },
     "execution_count": 43,
     "metadata": {},
     "output_type": "execute_result"
    }
   ],
   "source": [
    "l2"
   ]
  },
  {
   "cell_type": "code",
   "execution_count": 54,
   "id": "1bdbbca7-1193-4db8-95b7-7203dee2a616",
   "metadata": {},
   "outputs": [],
   "source": [
    "l3=list.copy(l1)"
   ]
  },
  {
   "cell_type": "code",
   "execution_count": 52,
   "id": "5a368c49-0776-405a-a86c-32a23b6924e9",
   "metadata": {},
   "outputs": [],
   "source": [
    "import copy"
   ]
  },
  {
   "cell_type": "code",
   "execution_count": 55,
   "id": "d4ec244e-ce19-4e03-b840-392ad740a1fd",
   "metadata": {},
   "outputs": [
    {
     "data": {
      "text/plain": [
       "[[1, 5, 7, 9, 11, 13, 15], [2, 4, 6, 8, 10, 12]]"
      ]
     },
     "execution_count": 55,
     "metadata": {},
     "output_type": "execute_result"
    }
   ],
   "source": [
    "l3"
   ]
  },
  {
   "cell_type": "code",
   "execution_count": 56,
   "id": "da6f736a-3bdb-4890-9f80-4e7c120236f6",
   "metadata": {},
   "outputs": [],
   "source": [
    "l1[1][3]=0"
   ]
  },
  {
   "cell_type": "code",
   "execution_count": 72,
   "id": "31c9da6d-5c16-4bb0-8cca-832825c0a6c2",
   "metadata": {},
   "outputs": [
    {
     "data": {
      "text/plain": [
       "[[3, 16, 9, 12], [4, 8, 12, 16]]"
      ]
     },
     "execution_count": 72,
     "metadata": {},
     "output_type": "execute_result"
    }
   ],
   "source": [
    "l1"
   ]
  },
  {
   "cell_type": "code",
   "execution_count": 59,
   "id": "cd7e0ce9-b09f-4218-9cd5-b36502598c2f",
   "metadata": {},
   "outputs": [
    {
     "data": {
      "text/plain": [
       "[[1, 5, 7, 9, 11, 13, 15], [2, 4, 6, 0, 10, 12]]"
      ]
     },
     "execution_count": 59,
     "metadata": {},
     "output_type": "execute_result"
    }
   ],
   "source": [
    "l3"
   ]
  },
  {
   "cell_type": "code",
   "execution_count": 75,
   "id": "052373c3-8c73-4a7e-a4a5-227e7d308d7a",
   "metadata": {},
   "outputs": [
    {
     "data": {
      "text/plain": [
       "2308538040960"
      ]
     },
     "execution_count": 75,
     "metadata": {},
     "output_type": "execute_result"
    }
   ],
   "source": [
    "id(l2)"
   ]
  },
  {
   "cell_type": "code",
   "execution_count": 74,
   "id": "10fffe80-5d52-4c34-84b7-f49aa268502f",
   "metadata": {},
   "outputs": [
    {
     "data": {
      "text/plain": [
       "2308538887936"
      ]
     },
     "execution_count": 74,
     "metadata": {},
     "output_type": "execute_result"
    }
   ],
   "source": [
    "id(l3)"
   ]
  },
  {
   "cell_type": "code",
   "execution_count": null,
   "id": "60090782-eeed-466f-953b-acfd92cfac68",
   "metadata": {},
   "outputs": [],
   "source": [
    "# q2 concept of deep copy"
   ]
  },
  {
   "cell_type": "code",
   "execution_count": 60,
   "id": "2af3bde9-fec2-4990-8181-18638957ae6b",
   "metadata": {},
   "outputs": [],
   "source": [
    "l1=[[3,6,9,12],[4,8,12,16]]\n",
    "l2=copy.deepcopy(l1)"
   ]
  },
  {
   "cell_type": "code",
   "execution_count": 61,
   "id": "be901039-e35e-4c02-a9f3-0dc9371fd7c1",
   "metadata": {},
   "outputs": [
    {
     "data": {
      "text/plain": [
       "[[3, 6, 9, 12], [4, 8, 12, 16]]"
      ]
     },
     "execution_count": 61,
     "metadata": {},
     "output_type": "execute_result"
    }
   ],
   "source": [
    "l1"
   ]
  },
  {
   "cell_type": "code",
   "execution_count": 62,
   "id": "87692576-1355-4ff6-a581-5c1755ab7a45",
   "metadata": {},
   "outputs": [
    {
     "data": {
      "text/plain": [
       "[[3, 6, 9, 12], [4, 8, 12, 16]]"
      ]
     },
     "execution_count": 62,
     "metadata": {},
     "output_type": "execute_result"
    }
   ],
   "source": [
    "l2"
   ]
  },
  {
   "cell_type": "code",
   "execution_count": 63,
   "id": "915bf2e6-982d-4cbb-8f34-1565ceef4cc7",
   "metadata": {},
   "outputs": [],
   "source": [
    "l1[0][1]=16"
   ]
  },
  {
   "cell_type": "code",
   "execution_count": 64,
   "id": "d599686c-55f5-4e3a-8c39-72403adf82ac",
   "metadata": {},
   "outputs": [
    {
     "data": {
      "text/plain": [
       "[[3, 16, 9, 12], [4, 8, 12, 16]]"
      ]
     },
     "execution_count": 64,
     "metadata": {},
     "output_type": "execute_result"
    }
   ],
   "source": [
    "l1"
   ]
  },
  {
   "cell_type": "code",
   "execution_count": 65,
   "id": "930bd03a-b119-4cfd-8989-8c84fa1d9830",
   "metadata": {},
   "outputs": [
    {
     "data": {
      "text/plain": [
       "[[3, 6, 9, 12], [4, 8, 12, 16]]"
      ]
     },
     "execution_count": 65,
     "metadata": {},
     "output_type": "execute_result"
    }
   ],
   "source": [
    "l2"
   ]
  },
  {
   "cell_type": "code",
   "execution_count": 66,
   "id": "945cf363-0a0a-4f95-846f-3a50ecf476da",
   "metadata": {},
   "outputs": [],
   "source": [
    "l2[-1][-3]=18"
   ]
  },
  {
   "cell_type": "code",
   "execution_count": 67,
   "id": "b88dd2ec-9a2a-470a-be29-e8d0b0c37041",
   "metadata": {},
   "outputs": [
    {
     "data": {
      "text/plain": [
       "[[3, 6, 9, 12], [4, 18, 12, 16]]"
      ]
     },
     "execution_count": 67,
     "metadata": {},
     "output_type": "execute_result"
    }
   ],
   "source": [
    "l2"
   ]
  },
  {
   "cell_type": "code",
   "execution_count": 68,
   "id": "c11ced59-fd25-46f4-9eb2-4555f450f5c1",
   "metadata": {},
   "outputs": [
    {
     "data": {
      "text/plain": [
       "[[3, 16, 9, 12], [4, 8, 12, 16]]"
      ]
     },
     "execution_count": 68,
     "metadata": {},
     "output_type": "execute_result"
    }
   ],
   "source": [
    "l1"
   ]
  },
  {
   "cell_type": "code",
   "execution_count": 69,
   "id": "4192fbe1-4b78-4c73-8245-a2363c598cdf",
   "metadata": {},
   "outputs": [
    {
     "name": "stdout",
     "output_type": "stream",
     "text": [
      "[[3, 16, 9, 12], [4, 8, 12, 16]]\n",
      "[[3, 6, 9, 12], [4, 18, 12, 16]]\n"
     ]
    }
   ],
   "source": [
    "print(l1)\n",
    "print(l2)"
   ]
  },
  {
   "cell_type": "code",
   "execution_count": 70,
   "id": "3a53daa3-96af-44c4-b570-3b7594bd04a5",
   "metadata": {},
   "outputs": [
    {
     "data": {
      "text/plain": [
       "2308538049920"
      ]
     },
     "execution_count": 70,
     "metadata": {},
     "output_type": "execute_result"
    }
   ],
   "source": [
    "id(l1)"
   ]
  },
  {
   "cell_type": "code",
   "execution_count": 71,
   "id": "399dbbcb-9702-44a7-b8ef-f5e1b404031a",
   "metadata": {},
   "outputs": [
    {
     "data": {
      "text/plain": [
       "2308538040960"
      ]
     },
     "execution_count": 71,
     "metadata": {},
     "output_type": "execute_result"
    }
   ],
   "source": [
    "id(l2)"
   ]
  },
  {
   "cell_type": "code",
   "execution_count": null,
   "id": "28f92908-6611-484a-9d8f-c4aa7f95370e",
   "metadata": {},
   "outputs": [],
   "source": []
  },
  {
   "cell_type": "code",
   "execution_count": 2,
   "id": "93224718-ed91-4d88-bbd5-ef0e2badb8cb",
   "metadata": {},
   "outputs": [],
   "source": [
    "lst1=[3,4,5,6]\n",
    "import copy"
   ]
  },
  {
   "cell_type": "code",
   "execution_count": 3,
   "id": "8c67a479-3b52-4eeb-82a8-0e1f92d2cca3",
   "metadata": {},
   "outputs": [],
   "source": [
    "lst2=copy.copy(lst1)"
   ]
  },
  {
   "cell_type": "code",
   "execution_count": 4,
   "id": "ed9c283c-081c-4ba5-83a6-0b27db312000",
   "metadata": {},
   "outputs": [
    {
     "data": {
      "text/plain": [
       "[3, 4, 5, 6]"
      ]
     },
     "execution_count": 4,
     "metadata": {},
     "output_type": "execute_result"
    }
   ],
   "source": [
    "lst2"
   ]
  },
  {
   "cell_type": "code",
   "execution_count": null,
   "id": "85d7793b-6302-43b0-b2e7-0afd250c5b02",
   "metadata": {},
   "outputs": [],
   "source": []
  }
 ],
 "metadata": {
  "kernelspec": {
   "display_name": "Python 3 (ipykernel)",
   "language": "python",
   "name": "python3"
  },
  "language_info": {
   "codemirror_mode": {
    "name": "ipython",
    "version": 3
   },
   "file_extension": ".py",
   "mimetype": "text/x-python",
   "name": "python",
   "nbconvert_exporter": "python",
   "pygments_lexer": "ipython3",
   "version": "3.11.7"
  }
 },
 "nbformat": 4,
 "nbformat_minor": 5
}
