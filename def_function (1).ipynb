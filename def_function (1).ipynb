{
 "cells": [
  {
   "cell_type": "code",
   "execution_count": 1,
   "id": "cc11efce-2344-499e-9a2e-1665cfda2520",
   "metadata": {},
   "outputs": [],
   "source": [
    "def call_me():\n",
    "    print(\"hello\")\n",
    "    print(\"world\")\n"
   ]
  },
  {
   "cell_type": "code",
   "execution_count": 2,
   "id": "983f6626-64d4-4e74-8228-a76850b9cfe3",
   "metadata": {},
   "outputs": [
    {
     "name": "stdout",
     "output_type": "stream",
     "text": [
      "hello\n",
      "world\n"
     ]
    }
   ],
   "source": [
    "call_me()"
   ]
  },
  {
   "cell_type": "code",
   "execution_count": 4,
   "id": "52366cd8-a61d-4bdf-955b-d605337a624f",
   "metadata": {},
   "outputs": [],
   "source": [
    "def add(x,y):\n",
    "    return(x+y)"
   ]
  },
  {
   "cell_type": "code",
   "execution_count": 5,
   "id": "2fb8b452-6f1b-4ab2-a067-a8703dc61f1d",
   "metadata": {},
   "outputs": [
    {
     "data": {
      "text/plain": [
       "90"
      ]
     },
     "execution_count": 5,
     "metadata": {},
     "output_type": "execute_result"
    }
   ],
   "source": [
    "add(45,45)"
   ]
  },
  {
   "cell_type": "code",
   "execution_count": 6,
   "id": "685019b6-08ea-467c-8359-2a08530e2449",
   "metadata": {},
   "outputs": [],
   "source": [
    "def multiply(a,b):\n",
    "    return(a*b)"
   ]
  },
  {
   "cell_type": "code",
   "execution_count": 7,
   "id": "38470c04-08d9-4fcd-8069-5040d62d0d18",
   "metadata": {},
   "outputs": [
    {
     "data": {
      "text/plain": [
       "54"
      ]
     },
     "execution_count": 7,
     "metadata": {},
     "output_type": "execute_result"
    }
   ],
   "source": [
    "multiply(6,9)"
   ]
  },
  {
   "cell_type": "code",
   "execution_count": 10,
   "id": "7adc19fe-4e8a-4679-a77a-0a8c5fb3e027",
   "metadata": {},
   "outputs": [],
   "source": [
    "def format_name():\n",
    "    fname = input(\"Enter your name: \")\n",
    "    lname = input(\"Enter your last name: \")\n",
    "    formatted_fname = fname.capitalize()\n",
    "    formatted_lname = lname.capitalize()\n",
    "    print(\"candidates name is \",formatted_fname, formatted_lname)"
   ]
  },
  {
   "cell_type": "code",
   "execution_count": 11,
   "id": "99fda966-7f06-4f03-a684-f6984cfb57b1",
   "metadata": {},
   "outputs": [
    {
     "name": "stdin",
     "output_type": "stream",
     "text": [
      "Enter your name:  kapil\n",
      "Enter your last name:  thantharate\n"
     ]
    },
    {
     "name": "stdout",
     "output_type": "stream",
     "text": [
      "candidates name is  Kapil Thantharate\n"
     ]
    }
   ],
   "source": [
    "format_name()"
   ]
  },
  {
   "cell_type": "code",
   "execution_count": null,
   "id": "6348bdf7-f014-4341-bbf1-31d64b2861f8",
   "metadata": {},
   "outputs": [],
   "source": []
  },
  {
   "cell_type": "code",
   "execution_count": 12,
   "id": "b7d64811-5c05-491a-a984-6586bc0e461a",
   "metadata": {},
   "outputs": [],
   "source": [
    "cube=lambda x:x**3"
   ]
  },
  {
   "cell_type": "code",
   "execution_count": 13,
   "id": "2b7531d1-9cfc-4ba3-87d6-dec1b22cbc3f",
   "metadata": {},
   "outputs": [
    {
     "data": {
      "text/plain": [
       "125"
      ]
     },
     "execution_count": 13,
     "metadata": {},
     "output_type": "execute_result"
    }
   ],
   "source": [
    "cube(5)"
   ]
  },
  {
   "cell_type": "code",
   "execution_count": 14,
   "id": "c998f4d3-aeb6-46b8-bc79-66a57e79dd28",
   "metadata": {},
   "outputs": [
    {
     "data": {
      "text/plain": [
       "1728"
      ]
     },
     "execution_count": 14,
     "metadata": {},
     "output_type": "execute_result"
    }
   ],
   "source": [
    "cube(12)"
   ]
  },
  {
   "cell_type": "code",
   "execution_count": 15,
   "id": "380b7db9-e81c-4608-9daa-682360b82706",
   "metadata": {},
   "outputs": [
    {
     "data": {
      "text/plain": [
       "1331"
      ]
     },
     "execution_count": 15,
     "metadata": {},
     "output_type": "execute_result"
    }
   ],
   "source": [
    "cube(11)"
   ]
  },
  {
   "cell_type": "code",
   "execution_count": null,
   "id": "e2a328a6-2557-40e1-919e-7adc896bb17a",
   "metadata": {},
   "outputs": [],
   "source": [
    "CREATE A PYTHON PROGRAMME THAT INCLUDE A USER DEFINED FUNCTION CALLED PRINT EVEN_ODD NUMBER() THE FUNCTION PROMPT THE USER \n",
    "TO SET A RANGE LIMIT BEFORE PRINTING ALL EVEN NUMBERS UP TO THAT LIMIT?\n"
   ]
  },
  {
   "cell_type": "code",
   "execution_count": 16,
   "id": "00a091b5-46f3-4263-aae1-72585d1e7a6c",
   "metadata": {},
   "outputs": [],
   "source": [
    "even_odd= lambda x:'even' if x%2==0 else 'odd'"
   ]
  },
  {
   "cell_type": "code",
   "execution_count": 17,
   "id": "e5828eda-4703-45e6-8509-8868a7d92429",
   "metadata": {},
   "outputs": [
    {
     "data": {
      "text/plain": [
       "'even'"
      ]
     },
     "execution_count": 17,
     "metadata": {},
     "output_type": "execute_result"
    }
   ],
   "source": [
    "even_odd(34)"
   ]
  },
  {
   "cell_type": "code",
   "execution_count": 18,
   "id": "b7ce088a-31a4-48ab-8d32-40fa5305688d",
   "metadata": {},
   "outputs": [
    {
     "data": {
      "text/plain": [
       "'odd'"
      ]
     },
     "execution_count": 18,
     "metadata": {},
     "output_type": "execute_result"
    }
   ],
   "source": [
    "even_odd(37)"
   ]
  },
  {
   "cell_type": "code",
   "execution_count": 23,
   "id": "5910fc2d-81ab-4960-ab2c-0bdd426255f2",
   "metadata": {
    "jp-MarkdownHeadingCollapsed": true
   },
   "outputs": [
    {
     "name": "stdin",
     "output_type": "stream",
     "text": [
      "Enter First number: 56\n",
      "Enter Second number: 4\n"
     ]
    },
    {
     "name": "stdout",
     "output_type": "stream",
     "text": [
      "60\n"
     ]
    }
   ],
   "source": [
    "add=lambda a,b: a+b\n",
    "num1=int(input(\"Enter First number:\"))\n",
    "num2=int(input(\"Enter Second number:\"))\n",
    "print(add(num1,num2))"
   ]
  },
  {
   "cell_type": "raw",
   "id": "95057db5-24cb-46e0-a49d-d8af5e7e649f",
   "metadata": {},
   "source": [
    "-------------------------------------------MAP--------------------------------------------------"
   ]
  },
  {
   "cell_type": "code",
   "execution_count": 5,
   "id": "470f58e1-9231-4e2c-860a-84a643199379",
   "metadata": {},
   "outputs": [],
   "source": [
    "def format_name():\n",
    "    fname = input(\"Enter your first name:\")\n",
    "    lname = input(\"Enter your last name:\")\n",
    "    formated_fname = fname.capitalize()\n",
    "    formated_lname = lname.capitalize()\n",
    "    print(\"canditate first name is\",formated_fname,\"and last_name is\",formated_lname)\n",
    "    print(f\"first name is {formated_fname} and last name is {formated_lname}\")"
   ]
  },
  {
   "cell_type": "code",
   "execution_count": 6,
   "id": "a62702b7-6605-4525-833d-59ae6932eca7",
   "metadata": {},
   "outputs": [
    {
     "name": "stdin",
     "output_type": "stream",
     "text": [
      "Enter your first name: kapil\n",
      "Enter your last name: thantharate\n"
     ]
    },
    {
     "name": "stdout",
     "output_type": "stream",
     "text": [
      "canditate first name is Kapil and last_name is Thantharate\n",
      "first name is Kapil and last name is Thantharate\n"
     ]
    }
   ],
   "source": [
    "format_name()"
   ]
  },
  {
   "cell_type": "code",
   "execution_count": null,
   "id": "331e04c6-a916-4500-b22c-a92a89b0c930",
   "metadata": {},
   "outputs": [],
   "source": []
  }
 ],
 "metadata": {
  "kernelspec": {
   "display_name": "Python 3 (ipykernel)",
   "language": "python",
   "name": "python3"
  },
  "language_info": {
   "codemirror_mode": {
    "name": "ipython",
    "version": 3
   },
   "file_extension": ".py",
   "mimetype": "text/x-python",
   "name": "python",
   "nbconvert_exporter": "python",
   "pygments_lexer": "ipython3",
   "version": "3.11.7"
  }
 },
 "nbformat": 4,
 "nbformat_minor": 5
}
