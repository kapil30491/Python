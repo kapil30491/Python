{
 "cells": [
  {
   "cell_type": "code",
   "execution_count": 6,
   "id": "072f99e0-7641-45a6-b312-afd9905bd48b",
   "metadata": {},
   "outputs": [
    {
     "name": "stdin",
     "output_type": "stream",
     "text": [
      "enter the string\n",
      " a\n",
      "enter the string\n",
      " s\n",
      "enter the string\n",
      " d\n",
      "enter the string\n",
      " f\n",
      "enter the string\n",
      " g\n"
     ]
    }
   ],
   "source": [
    "#Q1 Solution\n",
    "\n",
    "#create empty tuple \n",
    "tuple = ()  \n",
    "\n",
    "#Ask user five times to enter the string and concat that string to the tuple\n",
    "times = 5 \n",
    "for i in range(times):\n",
    "    user_string = input(\"enter the string\\n\")\n",
    "    i=i+1\n",
    "\n"
   ]
  },
  {
   "cell_type": "code",
   "execution_count": 8,
   "id": "2cd81525-bf1f-49a0-9d57-6f188d4f3ff9",
   "metadata": {},
   "outputs": [
    {
     "name": "stdout",
     "output_type": "stream",
     "text": [
      "('f', 'e', 'd', 'c', 'b', 'a')\n"
     ]
    },
    {
     "data": {
      "text/plain": [
       "'a'"
      ]
     },
     "execution_count": 8,
     "metadata": {},
     "output_type": "execute_result"
    }
   ],
   "source": [
    "mytuple=(\"a\",\"b\",\"c\",\"d\",\"e\",\"f\")\n",
    "toelement=(mytuple[-1:-7:-1])\n",
    "print(toelement)\n",
    "mytuple[0]"
   ]
  },
  {
   "cell_type": "markdown",
   "id": "e931f17a-2f9c-4764-971f-6145ea85ee79",
   "metadata": {},
   "source": [
    "# PRACTICE QUESTIONS"
   ]
  },
  {
   "cell_type": "code",
   "execution_count": 27,
   "id": "56dd79cf-593e-4273-88ee-0946f7cee761",
   "metadata": {},
   "outputs": [
    {
     "name": "stdin",
     "output_type": "stream",
     "text": [
      "Enter strings= a\n",
      "Enter strings= s\n",
      "Enter strings= d\n",
      "Enter strings= f\n",
      "Enter strings= g\n"
     ]
    },
    {
     "name": "stdout",
     "output_type": "stream",
     "text": [
      "('a', 's', 'd', 'f', 'g') 4\n"
     ]
    }
   ],
   "source": [
    "# Q1. Accept 5 string values from user and store them as part of tuple. Print the elements of tuple with their indices.\n",
    "tuple=()\n",
    "time=5\n",
    "for i in range(time):\n",
    "    string=input(\"Enter strings=\")\n",
    "    tuple=tuple+ (string,)\n",
    "print(tuple,i)\n",
    "\n",
    "\n"
   ]
  },
  {
   "cell_type": "code",
   "execution_count": 33,
   "id": "295bb83f-7bda-41b5-ac22-f575562f9644",
   "metadata": {},
   "outputs": [
    {
     "name": "stdin",
     "output_type": "stream",
     "text": [
      "Enter Strings= q\n",
      "Enter Strings= w\n",
      "Enter Strings= e\n",
      "Enter Strings= r\n",
      "Enter Strings= t\n"
     ]
    },
    {
     "name": "stdout",
     "output_type": "stream",
     "text": [
      "tuples are ('q', 'w', 'e', 'r', 't')\n"
     ]
    }
   ],
   "source": [
    "tuple1=()\n",
    "times=5\n",
    "for i in range(times):\n",
    "    string=input(\"Enter Strings=\")\n",
    "    tuple1=tuple1+(string,)\n",
    "print(f\"tuples are {tuple1}\")    "
   ]
  },
  {
   "cell_type": "code",
   "execution_count": 53,
   "id": "f51783aa-e9ed-48c5-96b8-27e2b4718fbf",
   "metadata": {},
   "outputs": [
    {
     "name": "stdout",
     "output_type": "stream",
     "text": [
      "<class 'tuple'>\n",
      "('apple', 'b', 'cow', 'dog', 2, 4, 5, 6)\n",
      "dog\n"
     ]
    }
   ],
   "source": [
    "tuple2=(\"apple\",\"b\",\"cow\",\"dog\",2,4,5,6,)\n",
    "print(type(tuple2))\n",
    "\n",
    "length=tuple2[0:]\n",
    "print(length)\n",
    "\n",
    "tuple3=(\"apple\",\"b\",\"cow\",\"dog\",2,4,5,6)\n",
    "a=tuple3[3]\n",
    "print(a)\n",
    "tuple3[3]=\"\n"
   ]
  },
  {
   "cell_type": "code",
   "execution_count": 5,
   "id": "4f69655d-4787-4965-aff1-e7a80c14f03c",
   "metadata": {},
   "outputs": [
    {
     "name": "stdout",
     "output_type": "stream",
     "text": [
      "8\n"
     ]
    }
   ],
   "source": [
    "tuple2=(\"apple\",\"b\",\"cow\",\"dog\",2,4,5,6,)\n",
    "print(len(tuple2))\n",
    "\n"
   ]
  },
  {
   "cell_type": "code",
   "execution_count": 13,
   "id": "4fc81d67-f135-4bf2-b653-efc8108f5127",
   "metadata": {},
   "outputs": [
    {
     "name": "stdout",
     "output_type": "stream",
     "text": [
      "0   apple\n",
      "1   b\n",
      "2   cow\n",
      "3   dog\n",
      "4   2\n",
      "5   4\n",
      "6   5\n",
      "7   6\n"
     ]
    }
   ],
   "source": [
    "tuple3=(\"apple\",\"b\",\"cow\",\"dog\",2,4,5,6,)\n",
    "for i in range(len(tuple3)):\n",
    "    print(i, \" \",tuple3[i])"
   ]
  },
  {
   "cell_type": "code",
   "execution_count": null,
   "id": "365101e8-ed69-4ea2-bc25-4efe27b3192b",
   "metadata": {},
   "outputs": [],
   "source": []
  }
 ],
 "metadata": {
  "kernelspec": {
   "display_name": "Python 3 (ipykernel)",
   "language": "python",
   "name": "python3"
  },
  "language_info": {
   "codemirror_mode": {
    "name": "ipython",
    "version": 3
   },
   "file_extension": ".py",
   "mimetype": "text/x-python",
   "name": "python",
   "nbconvert_exporter": "python",
   "pygments_lexer": "ipython3",
   "version": "3.11.7"
  }
 },
 "nbformat": 4,
 "nbformat_minor": 5
}
