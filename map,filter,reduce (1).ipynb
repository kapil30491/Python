{
 "cells": [
  {
   "cell_type": "raw",
   "id": "bc806eef-ccc1-4953-bf47-af45f49688bb",
   "metadata": {},
   "source": [
    "map(),reduce(),filter()"
   ]
  },
  {
   "cell_type": "code",
   "execution_count": 2,
   "id": "07cd615e-4555-44e7-b3dd-c97ab8ac7c09",
   "metadata": {},
   "outputs": [],
   "source": [
    "l=[1,2,3,4,5,6,7,8,9]"
   ]
  },
  {
   "cell_type": "code",
   "execution_count": 4,
   "id": "f1c9682d-df2b-426f-b699-0abe7793c954",
   "metadata": {},
   "outputs": [],
   "source": [
    "l1=[]\n",
    "for i in l:\n",
    "    l1.append (i**2)"
   ]
  },
  {
   "cell_type": "code",
   "execution_count": 5,
   "id": "081bf53e-4faf-4c78-9c0b-b0cbc2f22db3",
   "metadata": {},
   "outputs": [
    {
     "data": {
      "text/plain": [
       "[1, 4, 9, 16, 25, 36, 49, 64, 81]"
      ]
     },
     "execution_count": 5,
     "metadata": {},
     "output_type": "execute_result"
    }
   ],
   "source": [
    "l1"
   ]
  },
  {
   "cell_type": "code",
   "execution_count": null,
   "id": "4b6a0876-1e9b-47be-9a9a-6f24f0e42c9a",
   "metadata": {},
   "outputs": [],
   "source": []
  },
  {
   "cell_type": "code",
   "execution_count": 6,
   "id": "0608df67-c143-467f-bd79-186b18392b2f",
   "metadata": {},
   "outputs": [],
   "source": [
    "def sq_n(n):\n",
    "    return n**2"
   ]
  },
  {
   "cell_type": "code",
   "execution_count": 7,
   "id": "f4120290-913d-4402-a056-14375b3282ed",
   "metadata": {},
   "outputs": [
    {
     "data": {
      "text/plain": [
       "<map at 0x17ab0ffca90>"
      ]
     },
     "execution_count": 7,
     "metadata": {},
     "output_type": "execute_result"
    }
   ],
   "source": [
    "map(sq_n,l)"
   ]
  },
  {
   "cell_type": "code",
   "execution_count": 8,
   "id": "614bcfba-c4c5-4c5e-85d8-9c4d676ae8c3",
   "metadata": {},
   "outputs": [
    {
     "data": {
      "text/plain": [
       "[1, 4, 9, 16, 25, 36, 49, 64, 81]"
      ]
     },
     "execution_count": 8,
     "metadata": {},
     "output_type": "execute_result"
    }
   ],
   "source": [
    "list(map(sq_n,l))"
   ]
  },
  {
   "cell_type": "code",
   "execution_count": 17,
   "id": "bf5d316c-6a12-4d21-8725-5811fb3096dd",
   "metadata": {},
   "outputs": [
    {
     "data": {
      "text/plain": [
       "[1, 4, 9, 16, 25, 36, 49, 64, 81]"
      ]
     },
     "execution_count": 17,
     "metadata": {},
     "output_type": "execute_result"
    }
   ],
   "source": [
    "list(map(lambda x:x**2,l))"
   ]
  },
  {
   "cell_type": "code",
   "execution_count": 9,
   "id": "84018cc2-3896-401f-b2e7-ff9d1047be22",
   "metadata": {},
   "outputs": [],
   "source": [
    "def cube(n):\n",
    "    return n**3"
   ]
  },
  {
   "cell_type": "code",
   "execution_count": 10,
   "id": "ea55f419-a5d4-4efc-bf36-fd72a836918c",
   "metadata": {},
   "outputs": [
    {
     "data": {
      "text/plain": [
       "[1, 8, 27, 64, 125, 216, 343, 512, 729]"
      ]
     },
     "execution_count": 10,
     "metadata": {},
     "output_type": "execute_result"
    }
   ],
   "source": [
    "list(map(cube,l))"
   ]
  },
  {
   "cell_type": "code",
   "execution_count": 18,
   "id": "6471d8b2-4da1-4dd8-a0fd-759f08df2e47",
   "metadata": {},
   "outputs": [
    {
     "data": {
      "text/plain": [
       "[1, 8, 27, 64, 125, 216, 343, 512, 729]"
      ]
     },
     "execution_count": 18,
     "metadata": {},
     "output_type": "execute_result"
    }
   ],
   "source": [
    "list(map(lambda x:x**3,l))"
   ]
  },
  {
   "cell_type": "code",
   "execution_count": 19,
   "id": "a58009b4-f476-4400-848d-1e9629bdf953",
   "metadata": {},
   "outputs": [],
   "source": [
    "# reduce\n",
    "from functools import reduce"
   ]
  },
  {
   "cell_type": "code",
   "execution_count": 20,
   "id": "1ef90380-de83-4080-8970-f051d4050ba7",
   "metadata": {},
   "outputs": [],
   "source": [
    "l=[2,3,4,5,6,7,8]"
   ]
  },
  {
   "cell_type": "code",
   "execution_count": 21,
   "id": "e65b3c82-f567-42a2-9e13-90d50b1dc126",
   "metadata": {},
   "outputs": [
    {
     "data": {
      "text/plain": [
       "35"
      ]
     },
     "execution_count": 21,
     "metadata": {},
     "output_type": "execute_result"
    }
   ],
   "source": [
    "sum(l)"
   ]
  },
  {
   "cell_type": "code",
   "execution_count": null,
   "id": "cde3f700-1c7a-447f-ab28-1f33c0bc66c8",
   "metadata": {},
   "outputs": [],
   "source": [
    " # reduce with lambda function"
   ]
  },
  {
   "cell_type": "code",
   "execution_count": 25,
   "id": "b30c9e01-05e5-4087-8a0b-43568113b1da",
   "metadata": {},
   "outputs": [
    {
     "data": {
      "text/plain": [
       "35"
      ]
     },
     "execution_count": 25,
     "metadata": {},
     "output_type": "execute_result"
    }
   ],
   "source": [
    "reduce(lambda a,b:a+b,l)    "
   ]
  },
  {
   "cell_type": "code",
   "execution_count": null,
   "id": "5a38024a-a716-4715-8779-09cb153a98f3",
   "metadata": {},
   "outputs": [],
   "source": [
    " # reduce with def function"
   ]
  },
  {
   "cell_type": "code",
   "execution_count": 23,
   "id": "bcdc0cb8-ca1c-4d3d-a35f-f0d6cb676561",
   "metadata": {},
   "outputs": [],
   "source": [
    "def sum(a,b):\n",
    "    return(a+b)\n"
   ]
  },
  {
   "cell_type": "code",
   "execution_count": 24,
   "id": "9d9f074d-586a-4c4f-b484-923f3440722a",
   "metadata": {},
   "outputs": [
    {
     "data": {
      "text/plain": [
       "35"
      ]
     },
     "execution_count": 24,
     "metadata": {},
     "output_type": "execute_result"
    }
   ],
   "source": [
    "reduce(sum,l)"
   ]
  },
  {
   "cell_type": "code",
   "execution_count": 30,
   "id": "7bdd3e87-63b5-47ae-8fbc-4355c5e140a8",
   "metadata": {},
   "outputs": [],
   "source": [
    "l=[2,3,4,5,6]"
   ]
  },
  {
   "cell_type": "code",
   "execution_count": 32,
   "id": "bd9b4cf3-f484-4bac-8a2d-382c5e060678",
   "metadata": {},
   "outputs": [
    {
     "name": "stdout",
     "output_type": "stream",
     "text": [
      "4\n",
      "9\n",
      "16\n",
      "25\n",
      "36\n"
     ]
    }
   ],
   "source": [
    "for i in l:\n",
    "    print(i*i)"
   ]
  },
  {
   "cell_type": "code",
   "execution_count": null,
   "id": "eaf78881-44b7-4e49-bdd5-5549d6ef78f0",
   "metadata": {},
   "outputs": [],
   "source": [
    "# ==============================================filter===================================================="
   ]
  },
  {
   "cell_type": "code",
   "execution_count": null,
   "id": "02e854a3-0f73-4fa9-9bb9-32e3757e435e",
   "metadata": {},
   "outputs": [],
   "source": [
    "# try to filter out all the even elements and store them in a list"
   ]
  },
  {
   "cell_type": "code",
   "execution_count": 43,
   "id": "09114749-5c21-4ab6-8e9e-7fa3f2721ce4",
   "metadata": {},
   "outputs": [],
   "source": [
    "l=[23,45,75,66,12,14,16]\n",
    "l1=[]\n",
    "for i in l:\n",
    "    if i%2==0:\n",
    "        l1.append (i)"
   ]
  },
  {
   "cell_type": "code",
   "execution_count": 44,
   "id": "bedc2d7d-63a0-427b-9a6e-de517a3598c8",
   "metadata": {},
   "outputs": [
    {
     "data": {
      "text/plain": [
       "[66, 12, 14, 16]"
      ]
     },
     "execution_count": 44,
     "metadata": {},
     "output_type": "execute_result"
    }
   ],
   "source": [
    "l1"
   ]
  },
  {
   "cell_type": "code",
   "execution_count": 45,
   "id": "528e8fdd-a57d-4a6f-884b-9857364c2454",
   "metadata": {},
   "outputs": [
    {
     "data": {
      "text/plain": [
       "<filter at 0x17ab100b850>"
      ]
     },
     "execution_count": 45,
     "metadata": {},
     "output_type": "execute_result"
    }
   ],
   "source": [
    "filter(lambda x:x%2==0,l)"
   ]
  },
  {
   "cell_type": "code",
   "execution_count": 48,
   "id": "5a0628e6-b790-4259-9589-36c85a130d0b",
   "metadata": {},
   "outputs": [
    {
     "data": {
      "text/plain": [
       "[66, 12, 14, 16]"
      ]
     },
     "execution_count": 48,
     "metadata": {},
     "output_type": "execute_result"
    }
   ],
   "source": [
    "list(filter(lambda x:x%2==0,l))"
   ]
  },
  {
   "cell_type": "code",
   "execution_count": 3,
   "id": "8e2844e3-33c5-4a07-9f37-1f8ad99aff80",
   "metadata": {},
   "outputs": [],
   "source": [
    "l=[23,45,75,66,12,14,16]"
   ]
  },
  {
   "cell_type": "code",
   "execution_count": 6,
   "id": "815dc5a3-6551-4cf4-a483-281ff07b8144",
   "metadata": {},
   "outputs": [],
   "source": [
    "def check_even(n):\n",
    "    if n%2==0:\n",
    "        return True"
   ]
  },
  {
   "cell_type": "code",
   "execution_count": 7,
   "id": "a4f6c7e2-2315-43a9-852f-5751ce5dbb7d",
   "metadata": {},
   "outputs": [
    {
     "data": {
      "text/plain": [
       "[66, 12, 14, 16]"
      ]
     },
     "execution_count": 7,
     "metadata": {},
     "output_type": "execute_result"
    }
   ],
   "source": [
    "list(filter(check_even,l))"
   ]
  },
  {
   "cell_type": "code",
   "execution_count": 13,
   "id": "2b326537-5a30-48ea-b935-321ddc9fed14",
   "metadata": {},
   "outputs": [],
   "source": [
    "# Recursion\n",
    "def factorial(n):\n",
    "    print(n)\n",
    "    if n==1:\n",
    "        return 1\n",
    "    else:\n",
    "        return (n*factorial(n-1))\n",
    "    "
   ]
  },
  {
   "cell_type": "code",
   "execution_count": 14,
   "id": "4bce9c74-a592-4c2f-83f2-17df0a0ff6fc",
   "metadata": {},
   "outputs": [
    {
     "name": "stdout",
     "output_type": "stream",
     "text": [
      "5\n",
      "4\n",
      "3\n",
      "2\n",
      "1\n"
     ]
    },
    {
     "data": {
      "text/plain": [
       "120"
      ]
     },
     "execution_count": 14,
     "metadata": {},
     "output_type": "execute_result"
    }
   ],
   "source": [
    "factorial(5)"
   ]
  },
  {
   "cell_type": "code",
   "execution_count": 10,
   "id": "81a6ee46-54b4-49fd-bb68-b95fb5f3b013",
   "metadata": {},
   "outputs": [],
   "source": [
    "l=['prachi','anand','analytics',23,17,'12','sumit']\n",
    "str_list =list(filter(lambda x:isinstance(x,list),l))"
   ]
  },
  {
   "cell_type": "code",
   "execution_count": 12,
   "id": "ad9238e1-ea03-43f5-a296-6d7a9db1a736",
   "metadata": {},
   "outputs": [
    {
     "data": {
      "text/plain": [
       "[]"
      ]
     },
     "execution_count": 12,
     "metadata": {},
     "output_type": "execute_result"
    }
   ],
   "source": [
    "str_list"
   ]
  },
  {
   "cell_type": "code",
   "execution_count": 13,
   "id": "9e75c70e-0b72-42d8-8488-e21c239873cc",
   "metadata": {},
   "outputs": [],
   "source": [
    "str_list =list(filter(lambda x:type(x)==str,l))"
   ]
  },
  {
   "cell_type": "code",
   "execution_count": 14,
   "id": "88f85ae9-7f8c-4b06-be16-72832acc6578",
   "metadata": {},
   "outputs": [
    {
     "data": {
      "text/plain": [
       "['prachi', 'anand', 'analytics', '12', 'sumit']"
      ]
     },
     "execution_count": 14,
     "metadata": {},
     "output_type": "execute_result"
    }
   ],
   "source": [
    "str_list"
   ]
  },
  {
   "cell_type": "code",
   "execution_count": 27,
   "id": "2e472293-342c-4d0a-ae30-d14c87f7e73f",
   "metadata": {},
   "outputs": [],
   "source": [
    "l1 = [[1,2,3,4] , (2,3,4,5,6) , (3,4,5,6,7) , set([23,4,5,45,4,4,5,45,45,4,5]) , {'k1' :\"sudh\" , \"k2\" : \"ineuron\",\"k3\":\n",
    "            \"kumar\" , 3:6 , 7:8} , [\"ineuron\" , \"data science \"]]\n",
    "\n",
    "# q3 : Try to extract all the list entity \n",
    "# q4 : Try to extract all the dict enteties\n",
    "# q5 : Try to extract all the tuples entities\n",
    "# q6 :Try to extract all the set entities"
   ]
  },
  {
   "cell_type": "code",
   "execution_count": 29,
   "id": "21d37c8c-3875-4a03-b13f-65d608f6d8f2",
   "metadata": {},
   "outputs": [
    {
     "data": {
      "text/plain": [
       "[[1, 2, 3, 4], ['ineuron', 'data science ']]"
      ]
     },
     "execution_count": 29,
     "metadata": {},
     "output_type": "execute_result"
    }
   ],
   "source": [
    "list(filter(lambda x:type (x) ==list,l1))           q3"
   ]
  },
  {
   "cell_type": "code",
   "execution_count": 30,
   "id": "cbf11d10-b278-442c-ba96-23adf13ff2b6",
   "metadata": {},
   "outputs": [
    {
     "data": {
      "text/plain": [
       "[{'k1': 'sudh', 'k2': 'ineuron', 'k3': 'kumar', 3: 6, 7: 8}]"
      ]
     },
     "execution_count": 30,
     "metadata": {},
     "output_type": "execute_result"
    }
   ],
   "source": [
    "list(filter(lambda x:type (x) ==dict,l1))               q4"
   ]
  },
  {
   "cell_type": "code",
   "execution_count": 32,
   "id": "f569bbd1-50c5-44b7-b792-06addeefa94d",
   "metadata": {},
   "outputs": [
    {
     "name": "stdout",
     "output_type": "stream",
     "text": [
      "(2, 3, 4, 5, 6)\n",
      "(3, 4, 5, 6, 7)\n"
     ]
    }
   ],
   "source": [
    "for i in l1:                                       q5\n",
    "    if type(i)==tuple:\n",
    "        print(i)"
   ]
  },
  {
   "cell_type": "code",
   "execution_count": 33,
   "id": "2a709c35-58d1-42f9-bab5-62f46d50c97e",
   "metadata": {},
   "outputs": [
    {
     "data": {
      "text/plain": [
       "[{4, 5, 23, 45}]"
      ]
     },
     "execution_count": 33,
     "metadata": {},
     "output_type": "execute_result"
    }
   ],
   "source": [
    "list(filter(lambda x:type (x) ==set,l1)) set is not allowed duplicate"
   ]
  },
  {
   "cell_type": "code",
   "execution_count": null,
   "id": "c5fd0082-ed88-4502-8c2d-dc40f1a6f721",
   "metadata": {},
   "outputs": [],
   "source": []
  }
 ],
 "metadata": {
  "kernelspec": {
   "display_name": "Python 3 (ipykernel)",
   "language": "python",
   "name": "python3"
  },
  "language_info": {
   "codemirror_mode": {
    "name": "ipython",
    "version": 3
   },
   "file_extension": ".py",
   "mimetype": "text/x-python",
   "name": "python",
   "nbconvert_exporter": "python",
   "pygments_lexer": "ipython3",
   "version": "3.11.7"
  }
 },
 "nbformat": 4,
 "nbformat_minor": 5
}
